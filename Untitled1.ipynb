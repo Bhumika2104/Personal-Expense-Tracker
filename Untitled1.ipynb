{
  "nbformat": 4,
  "nbformat_minor": 0,
  "metadata": {
    "colab": {
      "provenance": [],
      "authorship_tag": "ABX9TyPqw0ob8Z+LcE/OWLFSkXfP",
      "include_colab_link": true
    },
    "kernelspec": {
      "name": "python3",
      "display_name": "Python 3"
    },
    "language_info": {
      "name": "python"
    }
  },
  "cells": [
    {
      "cell_type": "markdown",
      "metadata": {
        "id": "view-in-github",
        "colab_type": "text"
      },
      "source": [
        "<a href=\"https://colab.research.google.com/github/Bhumika2104/Personal-Expense-Tracker/blob/main/Untitled1.ipynb\" target=\"_parent\"><img src=\"https://colab.research.google.com/assets/colab-badge.svg\" alt=\"Open In Colab\"/></a>"
      ]
    },
    {
      "cell_type": "code",
      "execution_count": null,
      "metadata": {
        "id": "6dbNEGFYLI2k"
      },
      "outputs": [],
      "source": [
        "mkdir personal-expense-tracker\n",
        "cd personal-expense-tracker\n",
        "git init\n"
      ]
    },
    {
      "cell_type": "code",
      "source": [
        "pandas\n",
        "matplotlib\n"
      ],
      "metadata": {
        "id": "zwudf1a4Li9z"
      },
      "execution_count": null,
      "outputs": []
    },
    {
      "cell_type": "code",
      "source": [
        "import pandas as pd\n",
        "import matplotlib.pyplot as plt\n",
        "from datetime import datetime\n",
        "\n",
        "class ExpenseTracker:\n",
        "    def __init__(self, filename):\n",
        "        self.filename = filename\n",
        "        self.load_expenses()\n",
        "\n",
        "    def load_expenses(self):\n",
        "        try:\n",
        "            self.expenses = pd.read_csv(self.filename)\n",
        "        except FileNotFoundError:\n",
        "            self.expenses = pd.DataFrame(columns=[\"Date\", \"Category\", \"Amount\", \"Description\"])\n",
        "\n",
        "    def add_expense(self, date, category, amount, description):\n",
        "        new_expense = {\"Date\": date, \"Category\": category, \"Amount\": amount, \"Description\": description}\n",
        "        self.expenses = self.expenses.append(new_expense, ignore_index=True)\n",
        "        self.save_expenses()\n",
        "\n",
        "    def save_expenses(self):\n",
        "        self.expenses.to_csv(self.filename, index=False)\n",
        "\n",
        "    def visualize_expenses(self):\n",
        "        self.expenses['Date'] = pd.to_datetime(self.expenses['Date'])\n",
        "        self.expenses.set_index('Date', inplace=True)\n",
        "        self.expenses.resample('M').sum()['Amount'].plot(kind='bar')\n",
        "        plt.title(\"Monthly Expenses\")\n",
        "        plt.xlabel(\"Month\")\n",
        "        plt.ylabel(\"Amount\")\n",
        "        plt.show()\n",
        "\n",
        "if __name__ == \"__main__\":\n",
        "    tracker = ExpenseTracker(\"data/expenses.csv\")\n",
        "\n",
        "    # Add expenses (you can modify this section to take user input)\n",
        "    tracker.add_expense(datetime.now().date(), \"Food\", 20, \"Lunch\")\n",
        "    tracker.add_expense(datetime.now().date(), \"Transport\", 15, \"Taxi\")\n",
        "\n",
        "    # Visualize expenses\n",
        "    tracker.visualize_expenses()\n"
      ],
      "metadata": {
        "id": "TXnS3hPyLnHV"
      },
      "execution_count": null,
      "outputs": []
    },
    {
      "cell_type": "code",
      "source": [
        "import unittest\n",
        "from expenses_tracker import ExpenseTracker\n",
        "\n",
        "class TestExpenseTracker(unittest.TestCase):\n",
        "    def test_add_expense(self):\n",
        "        tracker = ExpenseTracker(\"test_expenses.csv\")\n",
        "        tracker.add_expense(\"2024-01-01\", \"Test\", 100, \"Test expense\")\n",
        "        self.assertEqual(len(tracker.expenses), 1)\n",
        "\n",
        "if __name__ == \"__main__\":\n",
        "    unittest.main()\n"
      ],
      "metadata": {
        "id": "pVQNftDILrPq"
      },
      "execution_count": null,
      "outputs": []
    },
    {
      "cell_type": "code",
      "source": [
        "git add .\n",
        "git commit -m \"Initial commit: Set up expense tracker\"\n"
      ],
      "metadata": {
        "id": "qoyXe0c6LsfB"
      },
      "execution_count": null,
      "outputs": []
    },
    {
      "cell_type": "code",
      "source": [],
      "metadata": {
        "id": "0narJfx5LsLV"
      },
      "execution_count": null,
      "outputs": []
    }
  ]
}